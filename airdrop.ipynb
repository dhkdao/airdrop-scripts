{
 "cells": [
  {
   "cell_type": "markdown",
   "id": "2d32dcc5-6920-4853-a003-5dc1f2155f8f",
   "metadata": {},
   "source": [
    "## DHK Airdrop Script"
   ]
  },
  {
   "cell_type": "code",
   "execution_count": null,
   "id": "2d72cd3a-fe30-4b0d-a4c0-1c33d1bf773e",
   "metadata": {},
   "outputs": [],
   "source": [
    "# These are parameters used in the program below\n",
    "\n",
    "\n",
    "import datetime\n",
    "\n",
    "DHK_DISTRIBUTED = 100000\n",
    "PRICE_REF_DATE = datetime.date(2024, 8, 31)\n",
    "\n",
    "TOKENS = [\n",
    "    { \"token\": \"AKT\", \"qty\": 189628 }\n",
    "    { \"token\": \"ATOM\", \"qty\": 592191 }\n",
    "]\n",
    "\n",
    "API = {\n",
    "    \"coinmarketcap\": \"bd506f5a-3653-4213-bcaf-de86b7ffc025\"\n",
    "}"
   ]
  },
  {
   "cell_type": "code",
   "execution_count": null,
   "id": "4c242dbe-8086-46a1-9c4d-49da4e08abde",
   "metadata": {},
   "outputs": [],
   "source": [
    "# Program to retrieve necessary token information for export\n",
    "import pandas as pd\n",
    "\n",
    "df = pd.DataFrame({\n",
    "    \"Name\": [\"Brian\", \"Jimmy\", \"Grace\"],\n",
    "    \"Age\": [22, 35, 58],\n",
    "    \"Sex\": [\"male\", \"male\", \"female\"],\n",
    "})\n",
    "\n",
    "df"
   ]
  }
 ],
 "metadata": {
  "kernelspec": {
   "display_name": "Python 3 (ipykernel)",
   "language": "python",
   "name": "python3"
  },
  "language_info": {
   "codemirror_mode": {
    "name": "ipython",
    "version": 3
   },
   "file_extension": ".py",
   "mimetype": "text/x-python",
   "name": "python",
   "nbconvert_exporter": "python",
   "pygments_lexer": "ipython3",
   "version": "3.10.12"
  }
 },
 "nbformat": 4,
 "nbformat_minor": 5
}
